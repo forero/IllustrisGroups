{
 "cells": [
  {
   "cell_type": "code",
   "execution_count": 1,
   "metadata": {},
   "outputs": [],
   "source": [
    "import pandas as pd\n",
    "import numpy as np\n",
    "import matplotlib.pyplot as plt\n",
    "%matplotlib inline"
   ]
  },
  {
   "cell_type": "code",
   "execution_count": 4,
   "metadata": {},
   "outputs": [],
   "source": [
    "obs_groups = pd.read_csv(\"../data/EDD_table_v44+.csv\")\n",
    "sim_groups = pd.read_csv(\"../data/simul.MagK16.d5.d100.2D.v01.group.csv\")"
   ]
  },
  {
   "cell_type": "code",
   "execution_count": 5,
   "metadata": {},
   "outputs": [
    {
     "name": "stdout",
     "output_type": "stream",
     "text": [
      "obs groups = 15003\n",
      "sim_groups = 60564\n"
     ]
    }
   ],
   "source": [
    "print(\"obs groups = {}\".format(len(obs_groups)))\n",
    "print(\"sim_groups = {}\".format(len(sim_groups)))"
   ]
  },
  {
   "cell_type": "code",
   "execution_count": 11,
   "metadata": {},
   "outputs": [
    {
     "name": "stdout",
     "output_type": "stream",
     "text": [
      "Index(['PGC', 'Name', 'RA', 'DE', 'GLong', 'GLat', 'SGL', 'SGB', 'Ty', 'B_t',\n",
      "       'K_t', 'lgL_K', 'Vhel', 'Vls', 'D_i', 'eDi', 'PGC1', 'PGC1+', 'Ng',\n",
      "       'gGLong', 'gGLat', 'gSGL', 'gSGB', 'gK_t', 'glgL_K', 'gVh', 'gVls',\n",
      "       'gND', 'gD', 'geD', 'gsigL', 'gsigV', 'gR2t', 'gRdyn', 'gMassL',\n",
      "       'gMassdyn'],\n",
      "      dtype='object')\n"
     ]
    },
    {
     "data": {
      "text/html": [
       "<div>\n",
       "<table border=\"1\" class=\"dataframe\">\n",
       "  <thead>\n",
       "    <tr style=\"text-align: right;\">\n",
       "      <th></th>\n",
       "      <th>PGC</th>\n",
       "      <th>Name</th>\n",
       "      <th>RA</th>\n",
       "      <th>DE</th>\n",
       "      <th>GLong</th>\n",
       "      <th>GLat</th>\n",
       "      <th>SGL</th>\n",
       "      <th>SGB</th>\n",
       "      <th>Ty</th>\n",
       "      <th>B_t</th>\n",
       "      <th>...</th>\n",
       "      <th>gVls</th>\n",
       "      <th>gND</th>\n",
       "      <th>gD</th>\n",
       "      <th>geD</th>\n",
       "      <th>gsigL</th>\n",
       "      <th>gsigV</th>\n",
       "      <th>gR2t</th>\n",
       "      <th>gRdyn</th>\n",
       "      <th>gMassL</th>\n",
       "      <th>gMassdyn</th>\n",
       "    </tr>\n",
       "  </thead>\n",
       "  <tbody>\n",
       "    <tr>\n",
       "      <th>0</th>\n",
       "      <td>13418</td>\n",
       "      <td>NGC1399</td>\n",
       "      <td>54.6212</td>\n",
       "      <td>-35.4506</td>\n",
       "      <td>236.7163</td>\n",
       "      <td>-53.6356</td>\n",
       "      <td>262.5460</td>\n",
       "      <td>-42.0776</td>\n",
       "      <td>-4.6</td>\n",
       "      <td>10.35</td>\n",
       "      <td>...</td>\n",
       "      <td>1360</td>\n",
       "      <td>49</td>\n",
       "      <td>18.09</td>\n",
       "      <td>3</td>\n",
       "      <td>333</td>\n",
       "      <td>380</td>\n",
       "      <td>0.902</td>\n",
       "      <td>0.607</td>\n",
       "      <td>13.869</td>\n",
       "      <td>13.902</td>\n",
       "    </tr>\n",
       "    <tr>\n",
       "      <th>1</th>\n",
       "      <td>13179</td>\n",
       "      <td>NGC1365</td>\n",
       "      <td>53.4016</td>\n",
       "      <td>-36.1405</td>\n",
       "      <td>237.9564</td>\n",
       "      <td>-54.5979</td>\n",
       "      <td>261.8963</td>\n",
       "      <td>-40.9741</td>\n",
       "      <td>3.2</td>\n",
       "      <td>9.83</td>\n",
       "      <td>...</td>\n",
       "      <td>1360</td>\n",
       "      <td>49</td>\n",
       "      <td>18.09</td>\n",
       "      <td>3</td>\n",
       "      <td>333</td>\n",
       "      <td>380</td>\n",
       "      <td>0.902</td>\n",
       "      <td>0.607</td>\n",
       "      <td>13.869</td>\n",
       "      <td>13.902</td>\n",
       "    </tr>\n",
       "  </tbody>\n",
       "</table>\n",
       "<p>2 rows × 36 columns</p>\n",
       "</div>"
      ],
      "text/plain": [
       "     PGC                                 Name       RA       DE     GLong  \\\n",
       "0  13418                            NGC1399    54.6212 -35.4506  236.7163   \n",
       "1  13179                            NGC1365    53.4016 -36.1405  237.9564   \n",
       "\n",
       "      GLat       SGL      SGB      Ty      B_t    ...      gVls  gND       gD  \\\n",
       "0 -53.6356  262.5460 -42.0776   -4.6    10.35     ...      1360   49   18.09    \n",
       "1 -54.5979  261.8963 -40.9741    3.2     9.83     ...      1360   49   18.09    \n",
       "\n",
       "     geD gsigL gsigV   gR2t    gRdyn  gMassL   gMassdyn  \n",
       "0     3    333   380  0.902   0.607   13.869     13.902  \n",
       "1     3    333   380  0.902   0.607   13.869     13.902  \n",
       "\n",
       "[2 rows x 36 columns]"
      ]
     },
     "execution_count": 11,
     "metadata": {},
     "output_type": "execute_result"
    }
   ],
   "source": [
    "print(obs_groups.keys())\n",
    "obs_groups[:2]"
   ]
  },
  {
   "cell_type": "code",
   "execution_count": 12,
   "metadata": {},
   "outputs": [
    {
     "name": "stdout",
     "output_type": "stream",
     "text": [
      "Index(['ID', 'grpID', 'flag', 'ra', 'dec', 'MagK', 'Ks', 'logK', 'Vls', 'dist',\n",
      "       'mDist', 'R_theta', 'sigmaP_dyn', 'sigmaP_lum', 'Mv_dyn', 'Mv_lum',\n",
      "       'Rg_angular', 'Rg_dyn', 'R2t_dyn', 'R2t_lum', 'r2t_lum', '   tX_dyn',\n",
      "       'tX_lum', 'No_Galaxies', 'nest'],\n",
      "      dtype='object')\n"
     ]
    },
    {
     "data": {
      "text/html": [
       "<div>\n",
       "<table border=\"1\" class=\"dataframe\">\n",
       "  <thead>\n",
       "    <tr style=\"text-align: right;\">\n",
       "      <th></th>\n",
       "      <th>ID</th>\n",
       "      <th>grpID</th>\n",
       "      <th>flag</th>\n",
       "      <th>ra</th>\n",
       "      <th>dec</th>\n",
       "      <th>MagK</th>\n",
       "      <th>Ks</th>\n",
       "      <th>logK</th>\n",
       "      <th>Vls</th>\n",
       "      <th>dist</th>\n",
       "      <th>...</th>\n",
       "      <th>Mv_lum</th>\n",
       "      <th>Rg_angular</th>\n",
       "      <th>Rg_dyn</th>\n",
       "      <th>R2t_dyn</th>\n",
       "      <th>R2t_lum</th>\n",
       "      <th>r2t_lum</th>\n",
       "      <th>tX_dyn</th>\n",
       "      <th>tX_lum</th>\n",
       "      <th>No_Galaxies</th>\n",
       "      <th>nest</th>\n",
       "    </tr>\n",
       "  </thead>\n",
       "  <tbody>\n",
       "    <tr>\n",
       "      <th>0</th>\n",
       "      <td>901008182</td>\n",
       "      <td>-1</td>\n",
       "      <td>2</td>\n",
       "      <td>18.9204</td>\n",
       "      <td>-40.9972</td>\n",
       "      <td>-27.23</td>\n",
       "      <td>4.66</td>\n",
       "      <td>12.2031</td>\n",
       "      <td>1786</td>\n",
       "      <td>23.86</td>\n",
       "      <td>...</td>\n",
       "      <td>1.090000e+14</td>\n",
       "      <td>1.36</td>\n",
       "      <td>0.794</td>\n",
       "      <td>0.97</td>\n",
       "      <td>1.028</td>\n",
       "      <td>1.259</td>\n",
       "      <td>9.710000e+16</td>\n",
       "      <td>6.800000e+16</td>\n",
       "      <td>91</td>\n",
       "      <td>1008182</td>\n",
       "    </tr>\n",
       "    <tr>\n",
       "      <th>1</th>\n",
       "      <td>1008182</td>\n",
       "      <td>20</td>\n",
       "      <td>1</td>\n",
       "      <td>18.9120</td>\n",
       "      <td>-41.1345</td>\n",
       "      <td>-26.38</td>\n",
       "      <td>5.55</td>\n",
       "      <td>11.8641</td>\n",
       "      <td>1806</td>\n",
       "      <td>24.37</td>\n",
       "      <td>...</td>\n",
       "      <td>4.450000e+13</td>\n",
       "      <td>0.00</td>\n",
       "      <td>0.000</td>\n",
       "      <td>0.00</td>\n",
       "      <td>0.762</td>\n",
       "      <td>0.933</td>\n",
       "      <td>0.000000e+00</td>\n",
       "      <td>6.800000e+16</td>\n",
       "      <td>91</td>\n",
       "      <td>1008182</td>\n",
       "    </tr>\n",
       "  </tbody>\n",
       "</table>\n",
       "<p>2 rows × 25 columns</p>\n",
       "</div>"
      ],
      "text/plain": [
       "          ID  grpID  flag       ra      dec   MagK    Ks     logK   Vls  \\\n",
       "0  901008182     -1     2  18.9204 -40.9972 -27.23  4.66  12.2031  1786   \n",
       "1    1008182     20     1  18.9120 -41.1345 -26.38  5.55  11.8641  1806   \n",
       "\n",
       "    dist   ...           Mv_lum  Rg_angular  Rg_dyn  R2t_dyn  R2t_lum  \\\n",
       "0  23.86   ...     1.090000e+14        1.36   0.794     0.97    1.028   \n",
       "1  24.37   ...     4.450000e+13        0.00   0.000     0.00    0.762   \n",
       "\n",
       "   r2t_lum        tX_dyn        tX_lum  No_Galaxies     nest  \n",
       "0    1.259  9.710000e+16  6.800000e+16           91  1008182  \n",
       "1    0.933  0.000000e+00  6.800000e+16           91  1008182  \n",
       "\n",
       "[2 rows x 25 columns]"
      ]
     },
     "execution_count": 12,
     "metadata": {},
     "output_type": "execute_result"
    }
   ],
   "source": [
    "print(sim_groups.keys())\n",
    "sim_groups[:2]"
   ]
  },
  {
   "cell_type": "code",
   "execution_count": 35,
   "metadata": {},
   "outputs": [],
   "source": [
    "log_K_obs = obs_groups['lgL_K'][obs_groups['Vls']<2000]\n",
    "log_K_sim = sim_groups['logK'][sim_groups['Vls']<2000]"
   ]
  },
  {
   "cell_type": "code",
   "execution_count": 50,
   "metadata": {},
   "outputs": [
    {
     "data": {
      "text/plain": [
       "<matplotlib.text.Text at 0x1127a75c0>"
      ]
     },
     "execution_count": 50,
     "metadata": {},
     "output_type": "execute_result"
    },
    {
     "data": {
      "image/png": "[encoded data removed]",
      "text/plain": [
       "<matplotlib.figure.Figure at 0x1125e4cf8>"
      ]
     },
     "metadata": {},
     "output_type": "display_data"
    }
   ],
   "source": [
    "a = plt.hist(log_K_obs, bins=np.arange(9.0, 13.0, 0.20), log=True, histtype='step', label='obs', linewidth=2)\n",
    "a = plt.hist(log_K_sim, bins=np.arange(9.0, 13.0, 0.20), log=True, histtype='step', label='sim', linestyle='--', linewidth=2)\n",
    "plt.legend()\n",
    "plt.title(\"Groups with V<2000 km/s\")\n",
    "plt.xlabel(\"$\\log L_K/L_{\\odot}$\")\n",
    "plt.ylabel(\"Number of Groups\")"
   ]
  },
  {
   "cell_type": "code",
   "execution_count": null,
   "metadata": {},
   "outputs": [],
   "source": []
  }
 ],
 "metadata": {
  "kernelspec": {
   "display_name": "Python 3",
   "language": "python",
   "name": "python3"
  },
  "language_info": {
   "codemirror_mode": {
    "name": "ipython",
    "version": 3
   },
   "file_extension": ".py",
   "mimetype": "text/x-python",
   "name": "python",
   "nbconvert_exporter": "python",
   "pygments_lexer": "ipython3",
   "version": "3.6.0"
  }
 },
 "nbformat": 4,
 "nbformat_minor": 2
}
