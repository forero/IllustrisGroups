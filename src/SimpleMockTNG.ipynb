{
 "cells": [
  {
   "cell_type": "code",
   "execution_count": 1,
   "metadata": {},
   "outputs": [],
   "source": [
    "import matplotlib.pyplot as plt\n",
    "import numpy as np\n",
    "import illustris_python.groupcat as gc\n",
    "%matplotlib inline"
   ]
  },
  {
   "cell_type": "code",
   "execution_count": 2,
   "metadata": {},
   "outputs": [],
   "source": [
    "basePath = \"/Users/forero/Illustris_data/TNG300-1/\"\n",
    "subhalo_fields = ['SubhaloMass','SubhaloSFRinRad', 'SubhaloPos', 'SubhaloVmax','SubhaloMassType',\n",
    "                  'SubhaloVel', 'SubhaloParent', 'SubhaloGrNr', 'SubhaloStellarPhotometrics']\n",
    "all_subhalos = gc.loadSubhalos(basePath,99, fields=subhalo_fields)"
   ]
  },
  {
   "cell_type": "code",
   "execution_count": 3,
   "metadata": {},
   "outputs": [
    {
     "name": "stdout",
     "output_type": "stream",
     "text": [
      "205000.0\n"
     ]
    }
   ],
   "source": [
    "photo = {'U':0, 'B':1, 'V':2, 'K':3, 'g':4, 'r':5, 'i':6, 'z':7}\n",
    "header = gc.loadHeader(basePath,99)\n",
    "print(header['BoxSize'])"
   ]
  },
  {
   "cell_type": "code",
   "execution_count": 4,
   "metadata": {},
   "outputs": [],
   "source": [
    "all_subhalos['K'] = all_subhalos['SubhaloStellarPhotometrics'][:,photo['K']]\n",
    "all_subhalos['B'] = all_subhalos['SubhaloStellarPhotometrics'][:,photo['B']]"
   ]
  },
  {
   "cell_type": "code",
   "execution_count": 6,
   "metadata": {},
   "outputs": [
    {
     "name": "stdout",
     "output_type": "stream",
     "text": [
      "SubhaloMass\n",
      "SubhaloSFRinRad\n",
      "SubhaloPos\n",
      "SubhaloVmax\n",
      "SubhaloMassType\n",
      "SubhaloVel\n",
      "SubhaloParent\n",
      "SubhaloGrNr\n",
      "SubhaloStellarPhotometrics\n",
      "K\n",
      "B\n"
     ]
    }
   ],
   "source": [
    "Kcut = -14\n",
    "ii = all_subhalos['K'] < Kcut\n",
    "subhalos = {}\n",
    "for field in all_subhalos.keys():\n",
    "    #subhalos[field] \n",
    "    if field!='count':\n",
    "        print(field)\n",
    "        subhalos[field] = all_subhalos[field][ii]"
   ]
  },
  {
   "cell_type": "code",
   "execution_count": 11,
   "metadata": {},
   "outputs": [
    {
     "name": "stdout",
     "output_type": "stream",
     "text": [
      "0 0 0\n",
      "19713\n",
      "TNG_mock_0_0_0 19713\n",
      "0 0 1\n",
      "25281\n",
      "TNG_mock_0_0_1 25281\n",
      "0 0 2\n",
      "40262\n",
      "TNG_mock_0_0_2 40262\n",
      "0 1 0\n",
      "28758\n",
      "TNG_mock_0_1_0 28758\n",
      "0 1 1\n",
      "33744\n",
      "TNG_mock_0_1_1 33744\n",
      "0 1 2\n",
      "39053\n",
      "TNG_mock_0_1_2 39053\n",
      "0 2 0\n",
      "30617\n",
      "TNG_mock_0_2_0 30617\n",
      "0 2 1\n",
      "35051\n",
      "TNG_mock_0_2_1 35051\n",
      "0 2 2\n",
      "21002\n",
      "TNG_mock_0_2_2 21002\n",
      "1 0 0\n",
      "39350\n",
      "TNG_mock_1_0_0 39350\n",
      "1 0 1\n",
      "31455\n",
      "TNG_mock_1_0_1 31455\n",
      "1 0 2\n",
      "28338\n",
      "TNG_mock_1_0_2 28338\n",
      "1 1 0\n",
      "31099\n",
      "TNG_mock_1_1_0 31099\n",
      "1 1 1\n",
      "29988\n",
      "TNG_mock_1_1_1 29988\n",
      "1 1 2\n",
      "24690\n",
      "TNG_mock_1_1_2 24690\n",
      "1 2 0\n",
      "24952\n",
      "TNG_mock_1_2_0 24952\n",
      "1 2 1\n",
      "19352\n",
      "TNG_mock_1_2_1 19352\n",
      "1 2 2\n",
      "22575\n",
      "TNG_mock_1_2_2 22575\n",
      "2 0 0\n",
      "26133\n",
      "TNG_mock_2_0_0 26133\n",
      "2 0 1\n",
      "31035\n",
      "TNG_mock_2_0_1 31035\n",
      "2 0 2\n",
      "35229\n",
      "TNG_mock_2_0_2 35229\n",
      "2 1 0\n",
      "27907\n",
      "TNG_mock_2_1_0 27907\n",
      "2 1 1\n",
      "17490\n",
      "TNG_mock_2_1_1 17490\n",
      "2 1 2\n",
      "44285\n",
      "TNG_mock_2_1_2 44285\n",
      "2 2 0\n",
      "27405\n",
      "TNG_mock_2_2_0 27405\n",
      "2 2 1\n",
      "26015\n",
      "TNG_mock_2_2_1 26015\n",
      "2 2 2\n",
      "23698\n",
      "TNG_mock_2_2_2 23698\n"
     ]
    }
   ],
   "source": [
    "def write_samples(filename, data, indices):\n",
    "    subdata = {}\n",
    "    for field in data.keys():\n",
    "        subdata[field] = data[field][indices]\n",
    "    pos = np.vstack([subdata['x'], subdata['y'], subdata['z']])\n",
    "    np.savetxt(filename+'_cat.txt', pos.T)\n",
    "    print(filename, np.count_nonzero(indices))\n",
    "\n",
    "n_box_side = 3\n",
    "radius_sphere = header['BoxSize']/n_box_side/2\n",
    "for i in range(n_box_side):\n",
    "    center_x = radius_sphere + i * (radius_sphere * 2)\n",
    "    for j in range(n_box_side):\n",
    "        center_y = radius_sphere + j * (radius_sphere * 2)\n",
    "        for k in range(n_box_side):\n",
    "            center_z = radius_sphere + k * (radius_sphere * 2)\n",
    "            print(i, j, k)\n",
    "            subhalos['x'] = (subhalos['SubhaloPos'][:,0]-center_x)\n",
    "            subhalos['y'] = (subhalos['SubhaloPos'][:,1]-center_y)\n",
    "            subhalos['z'] = (subhalos['SubhaloPos'][:,2]-center_z)\n",
    "            r = np.sqrt(subhalos['x']**2 + subhalos['y']**2 + subhalos['z']**2)\n",
    "            rr = r < radius_sphere\n",
    "            print(np.count_nonzero(rr))\n",
    "            filename = 'TNG_mock_{}_{}_{}'.format(i, j, k)\n",
    "            write_samples(filename, subhalos, rr)"
   ]
  },
  {
   "cell_type": "code",
   "execution_count": null,
   "metadata": {},
   "outputs": [],
   "source": []
  }
 ],
 "metadata": {
  "kernelspec": {
   "display_name": "Python 3",
   "language": "python",
   "name": "python3"
  },
  "language_info": {
   "codemirror_mode": {
    "name": "ipython",
    "version": 3
   },
   "file_extension": ".py",
   "mimetype": "text/x-python",
   "name": "python",
   "nbconvert_exporter": "python",
   "pygments_lexer": "ipython3",
   "version": "3.6.8"
  }
 },
 "nbformat": 4,
 "nbformat_minor": 2
}
