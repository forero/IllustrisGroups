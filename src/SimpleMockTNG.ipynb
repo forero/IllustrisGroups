{
 "cells": [
  {
   "cell_type": "code",
   "execution_count": 1,
   "metadata": {},
   "outputs": [],
   "source": [
    "import matplotlib.pyplot as plt\n",
    "import numpy as np\n",
    "import illustris_python.groupcat as gc\n",
    "%matplotlib inline"
   ]
  },
  {
   "cell_type": "code",
   "execution_count": 2,
   "metadata": {},
   "outputs": [],
   "source": [
    "basePath = \"/Users/forero/Illustris_data/TNG300-1/\"\n",
    "\n",
    "subhalo_fields = ['SubhaloMass','SubhaloSFRinRad', 'SubhaloPos', 'SubhaloVmax','SubhaloMassType',\n",
    "                  'SubhaloVel', 'SubhaloParent', 'SubhaloGrNr', 'SubhaloStellarPhotometrics']\n",
    "all_subhalos = gc.loadSubhalos(basePath,99, fields=subhalo_fields)"
   ]
  },
  {
   "cell_type": "code",
   "execution_count": 4,
   "metadata": {},
   "outputs": [
    {
     "name": "stdout",
     "output_type": "stream",
     "text": [
      "205000.0\n"
     ]
    }
   ],
   "source": [
    "photo = {'U':0, 'B':1, 'V':2, 'K':3, 'g':4, 'r':5, 'i':6, 'z':7}\n",
    "header = gc.loadHeader(basePath,99)\n",
    "print(header['BoxSize'])"
   ]
  },
  {
   "cell_type": "code",
   "execution_count": 7,
   "metadata": {},
   "outputs": [],
   "source": [
    "all_subhalos['Kmag'] = all_subhalos['SubhaloStellarPhotometrics'][:,photo['K']]"
   ]
  },
  {
   "cell_type": "code",
   "execution_count": 28,
   "metadata": {},
   "outputs": [
    {
     "name": "stdout",
     "output_type": "stream",
     "text": [
      "SubhaloMass\n",
      "SubhaloSFRinRad\n",
      "SubhaloPos\n",
      "SubhaloVmax\n",
      "SubhaloMassType\n",
      "SubhaloVel\n",
      "SubhaloParent\n",
      "SubhaloGrNr\n",
      "SubhaloStellarPhotometrics\n",
      "Kmag\n"
     ]
    }
   ],
   "source": [
    "Kcut = -14\n",
    "ii = all_subhalos['Kmag'] < Kcut\n",
    "subhalos = {}\n",
    "for field in all_subhalos.keys():\n",
    "    #subhalos[field] \n",
    "    if field!='count':\n",
    "        print(field)\n",
    "        subhalos[field] = all_subhalos[field][ii]\n",
    "subhalos['count'] = len(subhalos[field])"
   ]
  },
  {
   "cell_type": "code",
   "execution_count": 30,
   "metadata": {},
   "outputs": [
    {
     "data": {
      "text/plain": [
       "55391.74074074074"
      ]
     },
     "execution_count": 30,
     "metadata": {},
     "output_type": "execute_result"
    }
   ],
   "source": [
    "radius_sphere = "
   ]
  },
  {
   "cell_type": "code",
   "execution_count": null,
   "metadata": {},
   "outputs": [],
   "source": []
  }
 ],
 "metadata": {
  "kernelspec": {
   "display_name": "Python 3",
   "language": "python",
   "name": "python3"
  },
  "language_info": {
   "codemirror_mode": {
    "name": "ipython",
    "version": 3
   },
   "file_extension": ".py",
   "mimetype": "text/x-python",
   "name": "python",
   "nbconvert_exporter": "python",
   "pygments_lexer": "ipython3",
   "version": "3.6.8"
  }
 },
 "nbformat": 4,
 "nbformat_minor": 2
}
