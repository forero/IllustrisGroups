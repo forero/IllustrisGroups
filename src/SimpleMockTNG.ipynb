{
 "cells": [
  {
   "cell_type": "code",
   "execution_count": 1,
   "metadata": {},
   "outputs": [],
   "source": [
    "import matplotlib.pyplot as plt\n",
    "import numpy as np\n",
    "import illustris_python.groupcat as gc\n",
    "%matplotlib inline"
   ]
  },
  {
   "cell_type": "code",
   "execution_count": 2,
   "metadata": {},
   "outputs": [],
   "source": [
    "basePath = \"/Users/forero/Illustris_data/TNG300-1/\"\n",
    "\n",
    "subhalo_fields = ['SubhaloMass','SubhaloSFRinRad', 'SubhaloPos', 'SubhaloVmax','SubhaloMassType',\n",
    "                  'SubhaloVel', 'SubhaloParent', 'SubhaloGrNr', 'SubhaloStellarPhotometrics']\n",
    "all_subhalos = gc.loadSubhalos(basePath,99, fields=subhalo_fields)"
   ]
  },
  {
   "cell_type": "code",
   "execution_count": 4,
   "metadata": {},
   "outputs": [
    {
     "name": "stdout",
     "output_type": "stream",
     "text": [
      "205000.0\n"
     ]
    }
   ],
   "source": [
    "photo = {'U':0, 'B':1, 'V':2, 'K':3, 'g':4, 'r':5, 'i':6, 'z':7}\n",
    "header = gc.loadHeader(basePath,99)\n",
    "print(header['BoxSize'])"
   ]
  },
  {
   "cell_type": "code",
   "execution_count": 7,
   "metadata": {},
   "outputs": [],
   "source": [
    "all_subhalos['Kmag'] = all_subhalos['SubhaloStellarPhotometrics'][:,photo['K']]"
   ]
  },
  {
   "cell_type": "code",
   "execution_count": 28,
   "metadata": {},
   "outputs": [
    {
     "name": "stdout",
     "output_type": "stream",
     "text": [
      "SubhaloMass\n",
      "SubhaloSFRinRad\n",
      "SubhaloPos\n",
      "SubhaloVmax\n",
      "SubhaloMassType\n",
      "SubhaloVel\n",
      "SubhaloParent\n",
      "SubhaloGrNr\n",
      "SubhaloStellarPhotometrics\n",
      "Kmag\n"
     ]
    }
   ],
   "source": [
    "Kcut = -14\n",
    "ii = all_subhalos['Kmag'] < Kcut\n",
    "subhalos = {}\n",
    "for field in all_subhalos.keys():\n",
    "    #subhalos[field] \n",
    "    if field!='count':\n",
    "        print(field)\n",
    "        subhalos[field] = all_subhalos[field][ii]\n",
    "subhalos['count'] = len(subhalos[field])"
   ]
  },
  {
   "cell_type": "code",
   "execution_count": 34,
   "metadata": {},
   "outputs": [
    {
     "name": "stdout",
     "output_type": "stream",
     "text": [
      "0 0 0 34166.666666666664 34166.666666666664 34166.666666666664\n",
      "0 0 1 34166.666666666664 34166.666666666664 102500.0\n",
      "0 0 2 34166.666666666664 34166.666666666664 170833.3333333333\n",
      "0 1 0 34166.666666666664 102500.0 34166.666666666664\n",
      "0 1 1 34166.666666666664 102500.0 102500.0\n",
      "0 1 2 34166.666666666664 102500.0 170833.3333333333\n",
      "0 2 0 34166.666666666664 170833.3333333333 34166.666666666664\n",
      "0 2 1 34166.666666666664 170833.3333333333 102500.0\n",
      "0 2 2 34166.666666666664 170833.3333333333 170833.3333333333\n",
      "1 0 0 102500.0 34166.666666666664 34166.666666666664\n",
      "1 0 1 102500.0 34166.666666666664 102500.0\n",
      "1 0 2 102500.0 34166.666666666664 170833.3333333333\n",
      "1 1 0 102500.0 102500.0 34166.666666666664\n",
      "1 1 1 102500.0 102500.0 102500.0\n",
      "1 1 2 102500.0 102500.0 170833.3333333333\n",
      "1 2 0 102500.0 170833.3333333333 34166.666666666664\n",
      "1 2 1 102500.0 170833.3333333333 102500.0\n",
      "1 2 2 102500.0 170833.3333333333 170833.3333333333\n",
      "2 0 0 170833.3333333333 34166.666666666664 34166.666666666664\n",
      "2 0 1 170833.3333333333 34166.666666666664 102500.0\n",
      "2 0 2 170833.3333333333 34166.666666666664 170833.3333333333\n",
      "2 1 0 170833.3333333333 102500.0 34166.666666666664\n",
      "2 1 1 170833.3333333333 102500.0 102500.0\n",
      "2 1 2 170833.3333333333 102500.0 170833.3333333333\n",
      "2 2 0 170833.3333333333 170833.3333333333 34166.666666666664\n",
      "2 2 1 170833.3333333333 170833.3333333333 102500.0\n",
      "2 2 2 170833.3333333333 170833.3333333333 170833.3333333333\n"
     ]
    }
   ],
   "source": [
    "n_box_side = 3\n",
    "radius_sphere = header['BoxSize']/n_box_side/2\n",
    "for i in range(n_box_side):\n",
    "    center_x = radius_sphere + i * (radius_sphere * 2)\n",
    "    for j in range(n_box_side):\n",
    "        center_y = radius_sphere + j * (radius_sphere * 2)\n",
    "        for k in range(n_box_side):\n",
    "            center_z = radius_sphere + k * (radius_sphere * 2)\n",
    "            print(i, j, k)\n",
    "            x = (subhalos['SubhaloPos'][:,0]-center_x)\n",
    "            y = (subhalos['SubhaloPos'][:,1]-center_y)\n",
    "            z = (subhalos['SubhaloPos'][:,2]-center_z)\n",
    "            r = np.sqrt(x**2 + y**2 + z**2)"
   ]
  },
  {
   "cell_type": "code",
   "execution_count": null,
   "metadata": {},
   "outputs": [],
   "source": []
  }
 ],
 "metadata": {
  "kernelspec": {
   "display_name": "Python 3",
   "language": "python",
   "name": "python3"
  },
  "language_info": {
   "codemirror_mode": {
    "name": "ipython",
    "version": 3
   },
   "file_extension": ".py",
   "mimetype": "text/x-python",
   "name": "python",
   "nbconvert_exporter": "python",
   "pygments_lexer": "ipython3",
   "version": "3.6.8"
  }
 },
 "nbformat": 4,
 "nbformat_minor": 2
}
