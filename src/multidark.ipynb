{
 "cells": [
  {
   "cell_type": "code",
   "execution_count": 1,
   "metadata": {
    "collapsed": true
   },
   "outputs": [],
   "source": [
    "import numpy as np\n",
    "import matplotlib.pyplot as plt\n",
    "%matplotlib inline"
   ]
  },
  {
   "cell_type": "code",
   "execution_count": 9,
   "metadata": {
    "collapsed": true
   },
   "outputs": [],
   "source": [
    "mockfile = \"/global/cscratch1/sd/forero/mocks/selected_hlist_1.00000.list\"\n",
    "hubble = 0.678\n",
    "\n",
    "def read_data(filename):\n",
    "    dtype=[('mvir','f8'),('rvir', 'f8'), ('vrms', 'f8'),('vmax','f8'),\n",
    "           ('x', 'f8'), ('y', 'f8'), ('z', 'f8'),\n",
    "           ('vx', 'f8'), ('vy', 'f8'), ('vz', 'f8'),\n",
    "           ('mvirall', 'f8')]\n",
    "    data = np.loadtxt(filename, dtype=dtype)\n",
    "    return data"
   ]
  },
  {
   "cell_type": "code",
   "execution_count": null,
   "metadata": {
    "collapsed": false
   },
   "outputs": [],
   "source": [
    "snap_data = read_data(mockfile)\n",
    "snap_data[:,1]"
   ]
  },
  {
   "cell_type": "code",
   "execution_count": null,
   "metadata": {
    "collapsed": true
   },
   "outputs": [],
   "source": [
    "def cut_sphere(snap_data, center_x=0.0, center_y=0.0, center_z=0.0, max_radial_vel=3500.0):\n",
    "    ii = np.abs(snap_data['x'] - center_x)*(100*hubble) < 2.0 * max_radial_vel\n",
    "    ii &= np.abs(snap_data['y'] - center_y)*(100*hubble) < 2.0 * max_radial_vel\n",
    "    ii &= np.abs(snap_data['z'] - center_z)*(100*hubble) < 2.0 * max_radial_vel"
   ]
  }
 ],
 "metadata": {
  "anaconda-cloud": {},
  "kernelspec": {
   "display_name": "Python 3.5",
   "language": "python",
   "name": "python3.5"
  },
  "language_info": {
   "codemirror_mode": {
    "name": "ipython",
    "version": 3
   },
   "file_extension": ".py",
   "mimetype": "text/x-python",
   "name": "python",
   "nbconvert_exporter": "python",
   "pygments_lexer": "ipython3",
   "version": "3.5.2"
  }
 },
 "nbformat": 4,
 "nbformat_minor": 0
}
